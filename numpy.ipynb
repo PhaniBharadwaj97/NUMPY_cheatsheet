{
 "cells": [
  {
   "cell_type": "code",
   "execution_count": 1,
   "id": "3ada50da-44e6-4bf0-94a9-1902f33de27d",
   "metadata": {
    "tags": []
   },
   "outputs": [],
   "source": [
    "#Numpy - base for major data science libraries like pandas.\n",
    "\n",
    "#Numpy is a multi-dimensional array library..one can store 1d,2d,3d,4d..arrays data.\n",
    "\n",
    "#Lists are slow..meanwhile numpy is fast..because numpy uses FIXED TYpe ....numpy uses less bytes of memory..while lists  allocate memory for size , reference count\n",
    "#...object type and object value of each number , there by allocating more memory than. umpy , hences slow\n",
    "\n",
    "#one more reason numpy is faster is becaus when we iterate through each item in numy , we dont have to type check like in lists, if the item is a number of string or etc etc\n",
    "\n",
    "#numpy uses continues memory unlike lists where data is scattered around\n",
    "\n",
    "#as computers use SIMD ( single instruction multiple data ) it can perform operatio/computations quicker is data is in together in sseries rather than scattered in lists\n",
    "\n",
    "#numpy has effective cache utilization\n",
    "\n",
    "#Numpy can do same tasts as Lists like insertion , deletion , appending , concatination....but also lots and lots of tasks more\n",
    "\n",
    "# applications of numpy..!1) Mathematics ( matlab replacement ) , 2) plotting ( Matlab ) , 3) Backend (pandas, connect4, digital photagraphy)\n",
    "\n",
    "#machine learning applications \n",
    "\n",
    "\n",
    "\n"
   ]
  },
  {
   "cell_type": "markdown",
   "id": "7c4e9f9f-a207-4387-949f-7787be862266",
   "metadata": {},
   "source": [
    "# Basics"
   ]
  },
  {
   "cell_type": "code",
   "execution_count": 2,
   "id": "9dfa3020-10c4-47b0-b74f-df133ee0eef6",
   "metadata": {},
   "outputs": [],
   "source": [
    "import numpy as np"
   ]
  },
  {
   "cell_type": "code",
   "execution_count": 3,
   "id": "616b89b6-bd0d-40a2-ad99-ec35668d0c65",
   "metadata": {},
   "outputs": [
    {
     "data": {
      "text/plain": [
       "array([1, 2, 3])"
      ]
     },
     "execution_count": 3,
     "metadata": {},
     "output_type": "execute_result"
    }
   ],
   "source": [
    "#how to initialise an array\n",
    "a = np.array([1,2,3])\n",
    "a"
   ]
  },
  {
   "cell_type": "code",
   "execution_count": 4,
   "id": "8048c297-9688-45e1-a432-c4d3925b7c5c",
   "metadata": {},
   "outputs": [
    {
     "data": {
      "text/plain": [
       "array([[9. , 8. , 7. , 5.6],\n",
       "       [6. , 3. , 4.5, 9.4]])"
      ]
     },
     "execution_count": 4,
     "metadata": {},
     "output_type": "execute_result"
    }
   ],
   "source": [
    "b = np.array([[9.0,8.0,7.0,5.6],[6.0,3.0,4.5,9.4]])\n",
    "b"
   ]
  },
  {
   "cell_type": "code",
   "execution_count": 5,
   "id": "5681a732-f9df-4d45-affa-1db0c30812f1",
   "metadata": {},
   "outputs": [
    {
     "data": {
      "text/plain": [
       "1"
      ]
     },
     "execution_count": 5,
     "metadata": {},
     "output_type": "execute_result"
    }
   ],
   "source": [
    "#number of dimensions\n",
    "a.ndim"
   ]
  },
  {
   "cell_type": "code",
   "execution_count": 6,
   "id": "851540d5-fb29-407a-8684-0d7fb9cc0b9f",
   "metadata": {},
   "outputs": [
    {
     "data": {
      "text/plain": [
       "2"
      ]
     },
     "execution_count": 6,
     "metadata": {},
     "output_type": "execute_result"
    }
   ],
   "source": [
    "b.ndim"
   ]
  },
  {
   "cell_type": "code",
   "execution_count": 7,
   "id": "4c2e07d1-aceb-45ad-bcdc-142f2c67542e",
   "metadata": {},
   "outputs": [
    {
     "data": {
      "text/plain": [
       "(3,)"
      ]
     },
     "execution_count": 7,
     "metadata": {},
     "output_type": "execute_result"
    }
   ],
   "source": [
    "#get shape\n",
    "a.shape"
   ]
  },
  {
   "cell_type": "code",
   "execution_count": 8,
   "id": "ce444c2e-9f65-463f-8e07-ce381f31ccb8",
   "metadata": {},
   "outputs": [
    {
     "data": {
      "text/plain": [
       "(2, 4)"
      ]
     },
     "execution_count": 8,
     "metadata": {},
     "output_type": "execute_result"
    }
   ],
   "source": [
    "b.shape"
   ]
  },
  {
   "cell_type": "code",
   "execution_count": 9,
   "id": "293b84e4-da6b-4a64-aff6-597f8418be4f",
   "metadata": {},
   "outputs": [
    {
     "data": {
      "text/plain": [
       "dtype('int64')"
      ]
     },
     "execution_count": 9,
     "metadata": {},
     "output_type": "execute_result"
    }
   ],
   "source": [
    "#get typr\n",
    "a.dtype"
   ]
  },
  {
   "cell_type": "code",
   "execution_count": 10,
   "id": "20af7fa2-b1af-44b5-a9ed-e3cddf70234c",
   "metadata": {},
   "outputs": [
    {
     "data": {
      "text/plain": [
       "dtype('float64')"
      ]
     },
     "execution_count": 10,
     "metadata": {},
     "output_type": "execute_result"
    }
   ],
   "source": [
    "b.dtype"
   ]
  },
  {
   "cell_type": "code",
   "execution_count": 11,
   "id": "c5f9e850-a66c-476c-8bac-17f7f4c52427",
   "metadata": {},
   "outputs": [
    {
     "data": {
      "text/plain": [
       "3"
      ]
     },
     "execution_count": 11,
     "metadata": {},
     "output_type": "execute_result"
    }
   ],
   "source": [
    "#size\n",
    "a.size"
   ]
  },
  {
   "cell_type": "code",
   "execution_count": 12,
   "id": "4f18193b-da32-4a38-bc85-cd61a681a4fd",
   "metadata": {},
   "outputs": [
    {
     "data": {
      "text/plain": [
       "8"
      ]
     },
     "execution_count": 12,
     "metadata": {},
     "output_type": "execute_result"
    }
   ],
   "source": [
    "b.size"
   ]
  },
  {
   "cell_type": "code",
   "execution_count": 13,
   "id": "bff64514-ac32-451e-909e-180ce3e27297",
   "metadata": {},
   "outputs": [
    {
     "data": {
      "text/plain": [
       "8"
      ]
     },
     "execution_count": 13,
     "metadata": {},
     "output_type": "execute_result"
    }
   ],
   "source": [
    "#itemsize\n",
    "a.itemsize"
   ]
  },
  {
   "cell_type": "code",
   "execution_count": null,
   "id": "428bccec-7527-4b57-945f-c8797d318ef4",
   "metadata": {},
   "outputs": [],
   "source": []
  },
  {
   "cell_type": "code",
   "execution_count": 14,
   "id": "5fa9b564-2bf3-4506-857e-5edc2419ee3d",
   "metadata": {},
   "outputs": [
    {
     "data": {
      "text/plain": [
       "64"
      ]
     },
     "execution_count": 14,
     "metadata": {},
     "output_type": "execute_result"
    }
   ],
   "source": [
    "#total size\n",
    "#number of bytes = seze * itemsize\n",
    "a.nbytes\n",
    "b.nbytes"
   ]
  },
  {
   "cell_type": "markdown",
   "id": "243051e8-41bf-47a5-9f60-852fae18a2ae",
   "metadata": {},
   "source": [
    "# Accessing/Changing specific elements , rows , columns, etc"
   ]
  },
  {
   "cell_type": "code",
   "execution_count": 15,
   "id": "fbfd7292-5155-44a1-b73a-fe52e0130b58",
   "metadata": {},
   "outputs": [
    {
     "data": {
      "text/plain": [
       "array([[1, 2, 3, 4, 5, 6, 7, 8, 9],\n",
       "       [2, 4, 3, 7, 8, 3, 5, 4, 5]])"
      ]
     },
     "execution_count": 15,
     "metadata": {},
     "output_type": "execute_result"
    }
   ],
   "source": [
    "a = np.array([[1,2,3,4,5,6,7,8,9],[2,4,3,7,8,3,5,4,5]])\n",
    "a"
   ]
  },
  {
   "cell_type": "code",
   "execution_count": 16,
   "id": "0c492518-cf87-4928-8cfb-ef26b9bdc48d",
   "metadata": {},
   "outputs": [
    {
     "data": {
      "text/plain": [
       "3"
      ]
     },
     "execution_count": 16,
     "metadata": {},
     "output_type": "execute_result"
    }
   ],
   "source": [
    "#get a specific element [r,c]\n",
    "a[1,2]\n",
    "a[1,2]\n",
    "\n",
    "\n"
   ]
  },
  {
   "cell_type": "code",
   "execution_count": 17,
   "id": "2533a1a4-bce5-4ca9-9476-c2f0e6054219",
   "metadata": {},
   "outputs": [
    {
     "data": {
      "text/plain": [
       "array([2, 4, 6, 8])"
      ]
     },
     "execution_count": 17,
     "metadata": {},
     "output_type": "execute_result"
    }
   ],
   "source": [
    "#get a specific row\n",
    "a[0,1:9:2]"
   ]
  },
  {
   "cell_type": "code",
   "execution_count": 18,
   "id": "af599de3-4514-4371-a4c3-ad503210f608",
   "metadata": {},
   "outputs": [
    {
     "data": {
      "text/plain": [
       "array([3, 3])"
      ]
     },
     "execution_count": 18,
     "metadata": {},
     "output_type": "execute_result"
    }
   ],
   "source": [
    "#get a specific column\n",
    "a[:,2]"
   ]
  },
  {
   "cell_type": "code",
   "execution_count": 19,
   "id": "9afc604d-6267-48d8-aa30-8bb340b89824",
   "metadata": {},
   "outputs": [
    {
     "data": {
      "text/plain": [
       "array([2, 4, 6, 8])"
      ]
     },
     "execution_count": 19,
     "metadata": {},
     "output_type": "execute_result"
    }
   ],
   "source": [
    "a[0,1:9:2]"
   ]
  },
  {
   "cell_type": "code",
   "execution_count": 20,
   "id": "ed0c53e4-3512-4c7c-b2f5-20a4bddbd916",
   "metadata": {},
   "outputs": [
    {
     "data": {
      "text/plain": [
       "array([2])"
      ]
     },
     "execution_count": 20,
     "metadata": {},
     "output_type": "execute_result"
    }
   ],
   "source": [
    "a[1:3:2,0]"
   ]
  },
  {
   "cell_type": "code",
   "execution_count": 21,
   "id": "f7c55f64-a6b8-4df0-9e94-e9554a87e17e",
   "metadata": {},
   "outputs": [
    {
     "data": {
      "text/plain": [
       "array([[ 1,  2,  3,  4,  5,  6,  7,  8,  9],\n",
       "       [ 2,  4,  3,  7,  8, 20,  5,  4,  5]])"
      ]
     },
     "execution_count": 21,
     "metadata": {},
     "output_type": "execute_result"
    }
   ],
   "source": [
    "#replacing an array\n",
    "\n",
    "a[1,5]=20\n",
    "a"
   ]
  },
  {
   "cell_type": "code",
   "execution_count": 22,
   "id": "8dc17d13-b80c-4661-8ff1-6172ddce414c",
   "metadata": {},
   "outputs": [
    {
     "data": {
      "text/plain": [
       "array([[ 1,  2, 20,  4,  5,  6,  7,  8,  9],\n",
       "       [ 2,  4, 20,  7,  8, 20,  5,  4,  5]])"
      ]
     },
     "execution_count": 22,
     "metadata": {},
     "output_type": "execute_result"
    }
   ],
   "source": [
    "a[:,2]=20\n",
    "a"
   ]
  },
  {
   "cell_type": "code",
   "execution_count": 23,
   "id": "01c507ec-bafa-4159-bc11-ad79876972dd",
   "metadata": {},
   "outputs": [
    {
     "data": {
      "text/plain": [
       "array([[ 1,  2, 20,  4,  5,  6,  7,  8,  9],\n",
       "       [ 2,  4, 20,  7,  8, 20,  5,  4,  5]])"
      ]
     },
     "execution_count": 23,
     "metadata": {},
     "output_type": "execute_result"
    }
   ],
   "source": [
    "a[2:2,2:2]=20\n",
    "a"
   ]
  },
  {
   "cell_type": "code",
   "execution_count": 24,
   "id": "7755b08d-1916-4622-b0d8-84a7ea31502b",
   "metadata": {},
   "outputs": [
    {
     "data": {
      "text/plain": [
       "array([[ 1,  2, 20, 30, 30,  6,  7,  8,  9],\n",
       "       [ 2,  4, 20, 30, 30, 20,  5,  4,  5]])"
      ]
     },
     "execution_count": 24,
     "metadata": {},
     "output_type": "execute_result"
    }
   ],
   "source": [
    "a[0:,3:5]=30\n",
    "a"
   ]
  },
  {
   "cell_type": "code",
   "execution_count": 25,
   "id": "2bfca377-ca8e-48a0-b2d5-79ca8d2d03ca",
   "metadata": {},
   "outputs": [
    {
     "data": {
      "text/plain": [
       "array([[[2, 3, 5, 6],\n",
       "        [4, 3, 5, 6]],\n",
       "\n",
       "       [[2, 3, 4, 5],\n",
       "        [1, 3, 2, 4]]])"
      ]
     },
     "execution_count": 25,
     "metadata": {},
     "output_type": "execute_result"
    }
   ],
   "source": [
    "#3d example\n",
    "\n",
    "b = np.array([[[2,3,5,6],[4,3,5,6]],[[2,3,4,5],[1,3,2,4]]])\n",
    "b"
   ]
  },
  {
   "cell_type": "code",
   "execution_count": 26,
   "id": "c1b5daf0-a522-4afd-86be-9b134c3235a9",
   "metadata": {},
   "outputs": [
    {
     "data": {
      "text/plain": [
       "(2, 2, 4)"
      ]
     },
     "execution_count": 26,
     "metadata": {},
     "output_type": "execute_result"
    }
   ],
   "source": [
    "b.shape"
   ]
  },
  {
   "cell_type": "code",
   "execution_count": 27,
   "id": "df7de272-1494-4c0c-8f3b-2fdf413b326b",
   "metadata": {},
   "outputs": [
    {
     "data": {
      "text/plain": [
       "6"
      ]
     },
     "execution_count": 27,
     "metadata": {},
     "output_type": "execute_result"
    }
   ],
   "source": [
    "#to get sepecific element ( dimenstion , row , column)\n",
    "b[0,1,3]"
   ]
  },
  {
   "cell_type": "code",
   "execution_count": 28,
   "id": "afac30f4-fe65-4b3b-a216-29799164a450",
   "metadata": {},
   "outputs": [
    {
     "data": {
      "text/plain": [
       "array([[[4, 3, 5, 6]],\n",
       "\n",
       "       [[1, 3, 2, 4]]])"
      ]
     },
     "execution_count": 28,
     "metadata": {},
     "output_type": "execute_result"
    }
   ],
   "source": [
    "b[:,1:2:2,:]"
   ]
  },
  {
   "cell_type": "code",
   "execution_count": 29,
   "id": "487404bc-d219-413c-8dc9-971e17490f22",
   "metadata": {},
   "outputs": [
    {
     "data": {
      "text/plain": [
       "array([[[2, 3, 5, 6],\n",
       "        [9, 9, 9, 9]],\n",
       "\n",
       "       [[2, 3, 4, 5],\n",
       "        [9, 9, 9, 9]]])"
      ]
     },
     "execution_count": 29,
     "metadata": {},
     "output_type": "execute_result"
    }
   ],
   "source": [
    "# to replace\n",
    "\n",
    "b[:,1,:]=[9]\n",
    "b"
   ]
  },
  {
   "cell_type": "markdown",
   "id": "776b6839-f70b-4778-a180-3df21c9ad5ef",
   "metadata": {},
   "source": [
    "# initializing different types of arrays"
   ]
  },
  {
   "cell_type": "code",
   "execution_count": 30,
   "id": "0defc512-96a9-49d6-8499-f39a3d338516",
   "metadata": {},
   "outputs": [
    {
     "data": {
      "text/plain": [
       "array([[0., 0., 0.],\n",
       "       [0., 0., 0.]])"
      ]
     },
     "execution_count": 30,
     "metadata": {},
     "output_type": "execute_result"
    }
   ],
   "source": [
    "#all 0s matrix\n",
    "np.zeros((2,3))"
   ]
  },
  {
   "cell_type": "code",
   "execution_count": 31,
   "id": "c9ed7111-faa9-451b-b476-365d23884dde",
   "metadata": {},
   "outputs": [
    {
     "data": {
      "text/plain": [
       "array([[[1, 1, 1],\n",
       "        [1, 1, 1],\n",
       "        [1, 1, 1],\n",
       "        [1, 1, 1]],\n",
       "\n",
       "       [[1, 1, 1],\n",
       "        [1, 1, 1],\n",
       "        [1, 1, 1],\n",
       "        [1, 1, 1]],\n",
       "\n",
       "       [[1, 1, 1],\n",
       "        [1, 1, 1],\n",
       "        [1, 1, 1],\n",
       "        [1, 1, 1]]], dtype=int32)"
      ]
     },
     "execution_count": 31,
     "metadata": {},
     "output_type": "execute_result"
    }
   ],
   "source": [
    "np.ones((3,4,3),dtype='int32')"
   ]
  },
  {
   "cell_type": "code",
   "execution_count": 32,
   "id": "d48a6d57-58b9-4501-b79b-d6c063857c80",
   "metadata": {},
   "outputs": [
    {
     "data": {
      "text/plain": [
       "array([[4, 4, 4, 4, 4, 4, 4, 4, 4],\n",
       "       [4, 4, 4, 4, 4, 4, 4, 4, 4]])"
      ]
     },
     "execution_count": 32,
     "metadata": {},
     "output_type": "execute_result"
    }
   ],
   "source": [
    "np.full_like(a,4)"
   ]
  },
  {
   "cell_type": "code",
   "execution_count": null,
   "id": "c0078753-ca06-43c6-8c1a-13018ae2cd8a",
   "metadata": {},
   "outputs": [],
   "source": []
  },
  {
   "cell_type": "code",
   "execution_count": 33,
   "id": "380d27b1-20d1-4883-8da6-cf9844791fec",
   "metadata": {},
   "outputs": [
    {
     "data": {
      "text/plain": [
       "array([[4, 2, 2, 5],\n",
       "       [4, 4, 1, 0],\n",
       "       [0, 0, 2, 1]])"
      ]
     },
     "execution_count": 33,
     "metadata": {},
     "output_type": "execute_result"
    }
   ],
   "source": [
    "#random numbers\n",
    "\n",
    "np.random.randint(6,size=(3,4))"
   ]
  },
  {
   "cell_type": "code",
   "execution_count": 34,
   "id": "e5bdfb46-e306-45a8-af7d-2d767e8eb665",
   "metadata": {},
   "outputs": [
    {
     "data": {
      "text/plain": [
       "array([[1., 0., 0., 0., 0., 0.],\n",
       "       [0., 1., 0., 0., 0., 0.],\n",
       "       [0., 0., 1., 0., 0., 0.],\n",
       "       [0., 0., 0., 1., 0., 0.],\n",
       "       [0., 0., 0., 0., 1., 0.],\n",
       "       [0., 0., 0., 0., 0., 1.]])"
      ]
     },
     "execution_count": 34,
     "metadata": {},
     "output_type": "execute_result"
    }
   ],
   "source": [
    "#identity matrix\n",
    "\n",
    "np.identity(6)"
   ]
  },
  {
   "cell_type": "code",
   "execution_count": 35,
   "id": "c38e9a21-b830-4e3a-b850-574853ec1015",
   "metadata": {},
   "outputs": [
    {
     "data": {
      "text/plain": [
       "[[2, 3], [4, 5]]"
      ]
     },
     "execution_count": 35,
     "metadata": {},
     "output_type": "execute_result"
    }
   ],
   "source": [
    "#to repeat an array\n",
    "\n",
    "arr=([[2,3],[4,5]])\n",
    "arr"
   ]
  },
  {
   "cell_type": "code",
   "execution_count": 36,
   "id": "e3b86427-36d9-48d1-95ae-f7f6d635b89d",
   "metadata": {},
   "outputs": [
    {
     "data": {
      "text/plain": [
       "array([[2, 2, 2, 2, 2, 2, 3, 3, 3, 3, 3, 3],\n",
       "       [4, 4, 4, 4, 4, 4, 5, 5, 5, 5, 5, 5]])"
      ]
     },
     "execution_count": 36,
     "metadata": {},
     "output_type": "execute_result"
    }
   ],
   "source": [
    "repeat_array = np.repeat(arr,6,axis=1)\n",
    "repeat_array"
   ]
  },
  {
   "cell_type": "code",
   "execution_count": 37,
   "id": "ae4baad6-31e8-4047-86b7-b36a1dc5e2e3",
   "metadata": {},
   "outputs": [
    {
     "data": {
      "text/plain": [
       "array([[1., 1., 1., 1., 1.],\n",
       "       [1., 1., 1., 1., 1.],\n",
       "       [1., 1., 1., 1., 1.],\n",
       "       [1., 1., 1., 1., 1.],\n",
       "       [1., 1., 1., 1., 1.]])"
      ]
     },
     "execution_count": 37,
     "metadata": {},
     "output_type": "execute_result"
    }
   ],
   "source": [
    "# task to print  array([[1., 1., 1., 1., 1.],\n",
    "#                       [1., 0., 0., 0., 1.],\n",
    "#                       [1., 0., 9., 0., 1.],\n",
    "#                       [1., 0., 0., 0., 1.],\n",
    "#                       [1., 1., 1., 1., 1.]])\n",
    "\n",
    "z=np.ones((5,5))\n",
    "z"
   ]
  },
  {
   "cell_type": "code",
   "execution_count": 38,
   "id": "230f84c8-2f8f-47a0-ba8a-0fd5b52539df",
   "metadata": {},
   "outputs": [
    {
     "data": {
      "text/plain": [
       "array([[1., 1., 1., 1., 1.],\n",
       "       [1., 0., 0., 0., 1.],\n",
       "       [1., 0., 0., 0., 1.],\n",
       "       [1., 0., 0., 0., 1.],\n",
       "       [1., 1., 1., 1., 1.]])"
      ]
     },
     "execution_count": 38,
     "metadata": {},
     "output_type": "execute_result"
    }
   ],
   "source": [
    "z[1:4,1:4]=0\n",
    "z\n"
   ]
  },
  {
   "cell_type": "code",
   "execution_count": 39,
   "id": "39c7845f-7768-4a33-a1fa-9aa3d976341e",
   "metadata": {},
   "outputs": [
    {
     "data": {
      "text/plain": [
       "array([[1., 1., 1., 1., 1.],\n",
       "       [1., 0., 0., 0., 1.],\n",
       "       [1., 0., 9., 0., 1.],\n",
       "       [1., 0., 0., 0., 1.],\n",
       "       [1., 1., 1., 1., 1.]])"
      ]
     },
     "execution_count": 39,
     "metadata": {},
     "output_type": "execute_result"
    }
   ],
   "source": [
    "z[2,2]=9\n",
    "z"
   ]
  },
  {
   "cell_type": "code",
   "execution_count": 40,
   "id": "3e889ff5-7a8e-4755-9d87-83cb69c0ea32",
   "metadata": {},
   "outputs": [
    {
     "data": {
      "text/plain": [
       "array([1, 2, 3])"
      ]
     },
     "execution_count": 40,
     "metadata": {},
     "output_type": "execute_result"
    }
   ],
   "source": [
    "#be carefull when copying arrays\n",
    "\n",
    "r = np.array([1,2,3])\n",
    "r"
   ]
  },
  {
   "cell_type": "code",
   "execution_count": 41,
   "id": "50cfa89a-64ca-434e-8f04-cef46996e36a",
   "metadata": {},
   "outputs": [
    {
     "data": {
      "text/plain": [
       "array([1, 2, 3])"
      ]
     },
     "execution_count": 41,
     "metadata": {},
     "output_type": "execute_result"
    }
   ],
   "source": [
    "h=r\n",
    "h"
   ]
  },
  {
   "cell_type": "code",
   "execution_count": 42,
   "id": "bc6bb543-c359-49fd-9c38-9bedf001ea2e",
   "metadata": {},
   "outputs": [
    {
     "data": {
      "text/plain": [
       "array([1, 5, 3])"
      ]
     },
     "execution_count": 42,
     "metadata": {},
     "output_type": "execute_result"
    }
   ],
   "source": [
    "h[1]=5\n",
    "h"
   ]
  },
  {
   "cell_type": "code",
   "execution_count": 43,
   "id": "03c2af39-6661-43fb-8453-fbe8904f4e9d",
   "metadata": {},
   "outputs": [
    {
     "data": {
      "text/plain": [
       "array([1, 5, 3])"
      ]
     },
     "execution_count": 43,
     "metadata": {},
     "output_type": "execute_result"
    }
   ],
   "source": [
    "# when you change the duplicate array , the original array also chanages\n",
    "r"
   ]
  },
  {
   "cell_type": "code",
   "execution_count": 44,
   "id": "96c3acee-8cb2-4508-b021-dfe4ec8c1277",
   "metadata": {},
   "outputs": [
    {
     "name": "stdout",
     "output_type": "stream",
     "text": [
      "[1 2 3 4 5]\n",
      "[1 2 3 9 5]\n"
     ]
    }
   ],
   "source": [
    "#hence use copy function\n",
    "r = np.array([1,2,3,4,5])\n",
    "h = r.copy()\n",
    "h[3]=9\n",
    "print(r)\n",
    "print(h)\n"
   ]
  },
  {
   "cell_type": "markdown",
   "id": "2ee5c944-04d2-4be4-b4c6-0a28f8ca5853",
   "metadata": {},
   "source": [
    "# MATHEMATICS"
   ]
  },
  {
   "cell_type": "code",
   "execution_count": 45,
   "id": "4088d100-c660-416a-9daf-0ce67cfd6c87",
   "metadata": {},
   "outputs": [],
   "source": [
    "p = np.array([2,3,4,5,6])\n",
    "\n"
   ]
  },
  {
   "cell_type": "code",
   "execution_count": 46,
   "id": "3c7d1e09-0765-405f-85f3-ec3839bfdddb",
   "metadata": {},
   "outputs": [
    {
     "name": "stdout",
     "output_type": "stream",
     "text": [
      "[4 5 6 7 8]\n",
      "[0 1 2 3 4]\n",
      "[ 4  6  8 10 12]\n",
      "[1.  1.5 2.  2.5 3. ]\n"
     ]
    }
   ],
   "source": [
    "#basic operations on arrays\n",
    "print(p+2)\n",
    "print(p-2)\n",
    "print(p*2)\n",
    "print(p/2)"
   ]
  },
  {
   "cell_type": "code",
   "execution_count": 47,
   "id": "ca60ff05-2d31-4d1a-a07a-33a15027fc0d",
   "metadata": {},
   "outputs": [
    {
     "name": "stdout",
     "output_type": "stream",
     "text": [
      "[ 4  7 10  8 10]\n",
      "[ 4 12 24 15 24]\n",
      "[ 0 -1 -2  2  2]\n",
      "[1.         0.75       0.66666667 1.66666667 1.5       ]\n"
     ]
    }
   ],
   "source": [
    "g=np.array([2,4,6,3,4])\n",
    "print(p+g)\n",
    "print(p*g)\n",
    "print(p-g)\n",
    "print(p/g)"
   ]
  },
  {
   "cell_type": "markdown",
   "id": "4efc2b4e-131c-4cfd-8b28-bf913897985e",
   "metadata": {},
   "source": [
    "### linear algebra "
   ]
  },
  {
   "cell_type": "code",
   "execution_count": 57,
   "id": "5402f812-2bc4-4fcd-9369-34b3d26040c7",
   "metadata": {},
   "outputs": [
    {
     "name": "stdout",
     "output_type": "stream",
     "text": [
      "[[1. 1. 1.]\n",
      " [1. 1. 1.]\n",
      " [1. 1. 1.]\n",
      " [1. 1. 1.]]\n",
      "[[4 4 4 4 4 4 4 4]\n",
      " [4 4 4 4 4 4 4 4]\n",
      " [4 4 4 4 4 4 4 4]]\n"
     ]
    }
   ],
   "source": [
    "a= np.ones((4,3))\n",
    "print(a)\n",
    "\n",
    "b= np.full((3,8),4)\n",
    "print(b)"
   ]
  },
  {
   "cell_type": "code",
   "execution_count": 58,
   "id": "abe41f5f-247c-4ad6-bbc9-500f4e94b44c",
   "metadata": {},
   "outputs": [
    {
     "data": {
      "text/plain": [
       "array([[12., 12., 12., 12., 12., 12., 12., 12.],\n",
       "       [12., 12., 12., 12., 12., 12., 12., 12.],\n",
       "       [12., 12., 12., 12., 12., 12., 12., 12.],\n",
       "       [12., 12., 12., 12., 12., 12., 12., 12.]])"
      ]
     },
     "execution_count": 58,
     "metadata": {},
     "output_type": "execute_result"
    }
   ],
   "source": [
    "# print(a*b)doesnt work because they are of different sizes\n",
    "#hence use matrix multiplication\n",
    "\n",
    "np.matmul(a,b)"
   ]
  },
  {
   "cell_type": "code",
   "execution_count": 68,
   "id": "da395ea4-b06a-4e82-ba05-925da5351258",
   "metadata": {},
   "outputs": [
    {
     "data": {
      "text/plain": [
       "array([[1., 1., 1., 1., 1.],\n",
       "       [1., 1., 1., 1., 1.],\n",
       "       [1., 1., 1., 1., 1.],\n",
       "       [1., 1., 1., 1., 1.],\n",
       "       [1., 1., 1., 1., 1.]])"
      ]
     },
     "execution_count": 68,
     "metadata": {},
     "output_type": "execute_result"
    }
   ],
   "source": [
    "#find the determinant\n",
    "\n",
    "d = np.ones((5,5))\n",
    "d"
   ]
  },
  {
   "cell_type": "code",
   "execution_count": 69,
   "id": "a284aeab-ad3a-4a9f-b0b5-33ef6a5bfc3c",
   "metadata": {},
   "outputs": [
    {
     "data": {
      "text/plain": [
       "0.0"
      ]
     },
     "execution_count": 69,
     "metadata": {},
     "output_type": "execute_result"
    }
   ],
   "source": [
    "np.linalg.det(d)"
   ]
  },
  {
   "cell_type": "code",
   "execution_count": 71,
   "id": "3dfb414e-aae9-4f9c-88bf-25f81c9a546f",
   "metadata": {},
   "outputs": [
    {
     "data": {
      "text/plain": [
       "array([[1., 1., 1., 1., 1.],\n",
       "       [1., 6., 6., 6., 1.],\n",
       "       [1., 6., 6., 6., 1.],\n",
       "       [1., 6., 6., 6., 1.],\n",
       "       [1., 1., 1., 1., 1.]])"
      ]
     },
     "execution_count": 71,
     "metadata": {},
     "output_type": "execute_result"
    }
   ],
   "source": [
    "d[1:4,1:4] = 6\n",
    "d"
   ]
  },
  {
   "cell_type": "code",
   "execution_count": 73,
   "id": "88be04a7-66a1-4e1c-8bb3-785472bf98cf",
   "metadata": {},
   "outputs": [
    {
     "data": {
      "text/plain": [
       "0.0"
      ]
     },
     "execution_count": 73,
     "metadata": {},
     "output_type": "execute_result"
    }
   ],
   "source": [
    "np.linalg.det(d)\n"
   ]
  },
  {
   "cell_type": "markdown",
   "id": "f946c8a7-c765-403f-a1f6-232211b9f30c",
   "metadata": {},
   "source": [
    "### statistics"
   ]
  },
  {
   "cell_type": "code",
   "execution_count": 74,
   "id": "c2d27aa0-9722-48dc-9e7b-0bce1e2e85a6",
   "metadata": {},
   "outputs": [
    {
     "data": {
      "text/plain": [
       "array([[1, 2, 3],\n",
       "       [4, 5, 6]])"
      ]
     },
     "execution_count": 74,
     "metadata": {},
     "output_type": "execute_result"
    }
   ],
   "source": [
    "stats = np.array([[1,2,3],[4,5,6]])\n",
    "stats\n"
   ]
  },
  {
   "cell_type": "code",
   "execution_count": 75,
   "id": "afc8e029-e23f-4699-bf55-580c0a14818e",
   "metadata": {},
   "outputs": [
    {
     "data": {
      "text/plain": [
       "6"
      ]
     },
     "execution_count": 75,
     "metadata": {},
     "output_type": "execute_result"
    }
   ],
   "source": [
    "np.min(stats)\n",
    "np.max(stats)"
   ]
  },
  {
   "cell_type": "code",
   "execution_count": 77,
   "id": "ba7f9759-563e-4d99-bba0-72d7b5c9ac05",
   "metadata": {},
   "outputs": [
    {
     "data": {
      "text/plain": [
       "array([ 6, 15])"
      ]
     },
     "execution_count": 77,
     "metadata": {},
     "output_type": "execute_result"
    }
   ],
   "source": [
    "np.sum((stats),axis=1)"
   ]
  },
  {
   "cell_type": "markdown",
   "id": "4facacad-c3f1-496f-9471-bf396fad6424",
   "metadata": {},
   "source": [
    "# reorganizing arrays"
   ]
  },
  {
   "cell_type": "code",
   "execution_count": 81,
   "id": "1a85b9e5-17e3-4465-b13d-4b3bc10215f0",
   "metadata": {},
   "outputs": [
    {
     "data": {
      "text/plain": [
       "array([[[1, 2, 3, 4],\n",
       "        [5, 4, 3, 6]],\n",
       "\n",
       "       [[1, 2, 3, 4],\n",
       "        [2, 5, 4, 6]]])"
      ]
     },
     "execution_count": 81,
     "metadata": {},
     "output_type": "execute_result"
    }
   ],
   "source": [
    "prior=np.array([[[1,2,3,4],[5,4,3,6]],[[1,2,3,4],[2,5,4,6]]])\n",
    "prior\n"
   ]
  },
  {
   "cell_type": "code",
   "execution_count": 82,
   "id": "ebf0efe1-771e-4703-bc78-64517c335557",
   "metadata": {},
   "outputs": [
    {
     "data": {
      "text/plain": [
       "(2, 2, 4)"
      ]
     },
     "execution_count": 82,
     "metadata": {},
     "output_type": "execute_result"
    }
   ],
   "source": [
    "prior.shape"
   ]
  },
  {
   "cell_type": "code",
   "execution_count": 85,
   "id": "5dadfd65-ec1c-4204-98de-81770aea57ed",
   "metadata": {},
   "outputs": [
    {
     "data": {
      "text/plain": [
       "array([[[1, 2],\n",
       "        [3, 4],\n",
       "        [5, 4],\n",
       "        [3, 6]],\n",
       "\n",
       "       [[1, 2],\n",
       "        [3, 4],\n",
       "        [2, 5],\n",
       "        [4, 6]]])"
      ]
     },
     "execution_count": 85,
     "metadata": {},
     "output_type": "execute_result"
    }
   ],
   "source": [
    "later = prior.reshape((2,4,2))\n",
    "later"
   ]
  },
  {
   "cell_type": "code",
   "execution_count": 88,
   "id": "bfa29795-9d05-4e5d-bc33-ec27b4ecf73e",
   "metadata": {},
   "outputs": [
    {
     "name": "stdout",
     "output_type": "stream",
     "text": [
      "[[1 2 3 4]\n",
      " [3 2 4 5]]\n"
     ]
    }
   ],
   "source": [
    "#vertical staking vectors\n",
    "\n",
    "array1 = np.array([1,2,3,4])\n",
    "array2 = np.array([3,2,4,5])\n",
    "\n",
    "vstack1 = np.vstack([array1,array2])\n",
    "#vstack2 = np.add([array1,array2])\n",
    "print(vstack1)\n",
    "#print(vstack2)"
   ]
  },
  {
   "cell_type": "code",
   "execution_count": 89,
   "id": "4abbbf6c-aa15-4355-8852-0ecc0b9c5e94",
   "metadata": {},
   "outputs": [
    {
     "name": "stdout",
     "output_type": "stream",
     "text": [
      "[1 2 3 4 3 2 4 5]\n"
     ]
    }
   ],
   "source": [
    "#horizontalstack\n",
    "\n",
    "array1 = np.array([1,2,3,4])\n",
    "array2 = np.array([3,2,4,5])\n",
    "\n",
    "vstack1 = np.hstack([array1,array2])\n",
    "print(vstack1)"
   ]
  },
  {
   "cell_type": "markdown",
   "id": "6b0e333e-f113-4952-9445-8bed5c688587",
   "metadata": {},
   "source": [
    "# miscellaneous"
   ]
  },
  {
   "cell_type": "code",
   "execution_count": 96,
   "id": "2165d846-924c-4ae4-8d1b-2f93ff3c59f6",
   "metadata": {},
   "outputs": [
    {
     "data": {
      "text/plain": [
       "array([[-2147483648, -2147483648, -2147483648, -2147483648],\n",
       "       [          1,           1, -2147483648, -2147483648],\n",
       "       [          1,           1, -2147483648, -2147483648],\n",
       "       ...,\n",
       "       [         45,          98, -2147483648, -2147483648],\n",
       "       [         45,          98, -2147483648, -2147483648],\n",
       "       [         45,          98, -2147483648, -2147483648]], dtype=int32)"
      ]
     },
     "execution_count": 96,
     "metadata": {},
     "output_type": "execute_result"
    }
   ],
   "source": [
    "#load data from file\n",
    "\n",
    "data = np.genfromtxt('test.csv',delimiter = ',')\n",
    "#data.astype('int32') to change data to required data type...int 32 in this case\n",
    "data = data.astype('int32')\n",
    "data"
   ]
  },
  {
   "cell_type": "markdown",
   "id": "44e6d92e-061d-4241-93d7-4de4866880c7",
   "metadata": {},
   "source": [
    "# boolean masking and advanced indexing"
   ]
  },
  {
   "cell_type": "code",
   "execution_count": 97,
   "id": "56453580-c527-4d7f-ab41-97bca2dced08",
   "metadata": {},
   "outputs": [
    {
     "data": {
      "text/plain": [
       "array([[False, False, False, False],\n",
       "       [False, False, False, False],\n",
       "       [False, False, False, False],\n",
       "       ...,\n",
       "       [ True,  True, False, False],\n",
       "       [ True,  True, False, False],\n",
       "       [ True,  True, False, False]])"
      ]
     },
     "execution_count": 97,
     "metadata": {},
     "output_type": "execute_result"
    }
   ],
   "source": [
    "data > 30 "
   ]
  },
  {
   "cell_type": "code",
   "execution_count": 98,
   "id": "7ed51670-2942-4737-b0a7-3844af5ae6a0",
   "metadata": {},
   "outputs": [
    {
     "data": {
      "text/plain": [
       "array([41, 41, 41, ..., 98, 45, 98], dtype=int32)"
      ]
     },
     "execution_count": 98,
     "metadata": {},
     "output_type": "execute_result"
    }
   ],
   "source": [
    "data[data>40]"
   ]
  },
  {
   "cell_type": "code",
   "execution_count": 100,
   "id": "33fd9911-2740-4613-a22c-862cfa08c08d",
   "metadata": {},
   "outputs": [
    {
     "data": {
      "text/plain": [
       "array([False,  True, False, False])"
      ]
     },
     "execution_count": 100,
     "metadata": {},
     "output_type": "execute_result"
    }
   ],
   "source": [
    "np.any(data>70 , axis=0)"
   ]
  },
  {
   "cell_type": "code",
   "execution_count": 104,
   "id": "84728f72-002f-4ae1-b8a2-0a869acac4c6",
   "metadata": {},
   "outputs": [
    {
     "data": {
      "text/plain": [
       "array([[False, False, False, False],\n",
       "       [False, False, False, False],\n",
       "       [False, False, False, False],\n",
       "       ...,\n",
       "       [ True, False, False, False],\n",
       "       [ True, False, False, False],\n",
       "       [ True, False, False, False]])"
      ]
     },
     "execution_count": 104,
     "metadata": {},
     "output_type": "execute_result"
    }
   ],
   "source": [
    "((data>30 )& (data<90))"
   ]
  },
  {
   "cell_type": "code",
   "execution_count": null,
   "id": "729acdf4-a16e-47d8-92bc-47593d67eafb",
   "metadata": {},
   "outputs": [],
   "source": []
  }
 ],
 "metadata": {
  "kernelspec": {
   "display_name": "Python 3",
   "language": "python",
   "name": "python3"
  },
  "language_info": {
   "codemirror_mode": {
    "name": "ipython",
    "version": 3
   },
   "file_extension": ".py",
   "mimetype": "text/x-python",
   "name": "python",
   "nbconvert_exporter": "python",
   "pygments_lexer": "ipython3",
   "version": "3.8.8"
  }
 },
 "nbformat": 4,
 "nbformat_minor": 5
}
